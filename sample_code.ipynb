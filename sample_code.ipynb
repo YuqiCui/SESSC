{
  "cells": [
    {
      "cell_type": "code",
      "execution_count": 6,
      "metadata": {
        "collapsed": true,
        "pycharm": {
          "name": "#%% \n",
          "is_executing": false
        }
      },
      "outputs": [
        {
          "name": "stdout",
          "text": [
            "(1055, 41) (1055,)\n"
          ],
          "output_type": "stream"
        }
      ],
      "source": "# load data and pre-processing\nfrom lib.SESSC import SESSC\nimport numpy as np\nfrom sklearn.preprocessing import StandardScaler\nfrom sklearn.metrics import accuracy_score, balanced_accuracy_score\n\n\nf \u003d np.load(\u0027wpbc.npz\u0027)\ndata, label \u003d f[\u0027con_data\u0027], f[\u0027label\u0027]\nprint(data.shape, label.shape)\ntrains, tests \u003d f[\u0027trains\u0027], f[\u0027tests\u0027]  # load train test split \nx_train, y_train \u003d data[trains[0]], label[trains[0]]\nx_test, y_test \u003d data[tests[0]], label[tests[0]]\n\n# pre-processing by z-score\nss \u003d StandardScaler()\nx_train \u003d ss.fit_transform(x_train)\nx_test \u003d ss.transform(x_test)\n"
    },
    {
      "cell_type": "code",
      "execution_count": 7,
      "outputs": [],
      "source": "# hyper-parameter\n\nn_rules \u003d 30\norder \u003d 0\n",
      "metadata": {
        "pycharm": {
          "metadata": false,
          "name": "#%% \n",
          "is_executing": false
        }
      }
    },
    {
      "cell_type": "code",
      "execution_count": 8,
      "outputs": [
        {
          "name": "stdout",
          "text": [
            "[Method:    FCM-LSE] ACC: 0.6719, BCA: 0.5140\n"
          ],
          "output_type": "stream"
        }
      ],
      "source": "# FCM-LSE\nfcm_lse \u003d TSK_FS(n_cluster\u003dn_rules, order\u003dorder, cluster\u003d\u0027fcm\u0027, classifier\u003d\u0027ridge\u0027, _cls_alpha\u003d0.0001, _cluster_scale\u003d0.1)\nfcm_lse.fit(x_train, y_train)\npred \u003d fcm_lse.predict(x_test)\nacc \u003d accuracy_score(y_test, pred)\nbca \u003d balanced_accuracy_score(y_test, pred)\nprint(\u0027[Method: %10s] ACC: %.4f, BCA: %.4f\u0027 % (\u0027FCM-LSE\u0027, acc, bca))",
      "metadata": {
        "pycharm": {
          "metadata": false,
          "name": "#%%\n",
          "is_executing": false
        }
      }
    },
    {
      "cell_type": "code",
      "execution_count": 9,
      "outputs": [
        {
          "name": "stdout",
          "text": [
            "[Method:  EWFCM-LSE]ACC: 0.7792, BCA: 0.7348\n"
          ],
          "output_type": "stream"
        }
      ],
      "source": "# EWFCM-LSE\nessc_lse \u003d TSK_FS(n_cluster\u003dn_rules, order\u003dorder, cluster\u003d\u0027essc\u0027, classifier\u003d\u0027ridge\u0027,\n                 _cls_alpha\u003d0.001, _cluster_scale\u003d100, _cluster_eta\u003d0, _cluster_gamma\u003d100)\nessc_lse.fit(x_train, y_train)\npred \u003d essc_lse.predict(x_test)\nacc \u003d accuracy_score(y_test, pred)\nbca \u003d balanced_accuracy_score(y_test, pred)\nprint(\u0027[Method: %10s]ACC: %.4f, BCA: %.4f\u0027 % (\u0027EWFCM-LSE\u0027, acc, bca))",
      "metadata": {
        "pycharm": {
          "metadata": false,
          "name": "#%%\n",
          "is_executing": false
        }
      }
    },
    {
      "cell_type": "code",
      "execution_count": 10,
      "outputs": [
        {
          "name": "stdout",
          "text": [
            "[Method:   ESSC-LSE]ACC: 0.7823, BCA: 0.7395\n"
          ],
          "output_type": "stream"
        }
      ],
      "source": "# ESSC-LSE\nessc_lse \u003d TSK_FS(n_cluster\u003dn_rules, order\u003dorder, cluster\u003d\u0027essc\u0027, classifier\u003d\u0027ridge\u0027,\n                 _cls_alpha\u003d0.001, _cluster_scale\u003d1, _cluster_eta\u003d0.5, _cluster_gamma\u003d100)\nessc_lse.fit(x_train, y_train)\npred \u003d essc_lse.predict(x_test)\nacc \u003d accuracy_score(y_test, pred)\nbca \u003d balanced_accuracy_score(y_test, pred)\nprint(\u0027[Method: %10s]ACC: %.4f, BCA: %.4f\u0027 % (\u0027ESSC-LSE\u0027, acc, bca))",
      "metadata": {
        "pycharm": {
          "metadata": false,
          "name": "#%%\n",
          "is_executing": false
        }
      }
    },
    {
      "cell_type": "code",
      "execution_count": 11,
      "outputs": [
        {
          "name": "stdout",
          "text": [
            "[Method:      SESSC]ACC: 0.6688, BCA: 0.5277\n"
          ],
          "output_type": "stream"
        }
      ],
      "source": "# SESSC\nsessc \u003d SESSC_Raw_Pred(n_cluster\u003d30, eta\u003d0.3, gamma\u003d10, beta\u003d10)\nsessc.fit(x_train, y_train)\npred \u003d sessc.predict(x_test)\nacc \u003d accuracy_score(y_test, pred)\nbca \u003d balanced_accuracy_score(y_test, pred)\nprint(\u0027[Method: %10s]ACC: %.4f, BCA: %.4f\u0027 % (\u0027SESSC\u0027, acc, bca))\n",
      "metadata": {
        "pycharm": {
          "metadata": false,
          "name": "#%%\n",
          "is_executing": false
        }
      }
    },
    {
      "cell_type": "code",
      "execution_count": 12,
      "outputs": [
        {
          "name": "stdout",
          "text": [
            "[Method:  SESSC-LSE]ACC: 0.8297, BCA: 0.7889\n"
          ],
          "output_type": "stream"
        }
      ],
      "source": "# SESSC-LSE\nsessc_lse \u003d TSK_FS(n_cluster\u003dn_rules, order\u003dorder, cluster\u003d\u0027sessc\u0027, classifier\u003d\u0027ridge\u0027,\n                 _cls_alpha\u003d1, _cluster_scale\u003d10, _cluster_eta\u003d0.3, _cluster_gamma\u003d100, _cluster_beta\u003d10)\nsessc_lse.fit(x_train, y_train)\npred \u003d sessc_lse.predict(x_test)\nacc \u003d accuracy_score(y_test, pred)\nbca \u003d balanced_accuracy_score(y_test, pred)\nprint(\u0027[Method: %10s]ACC: %.4f, BCA: %.4f\u0027 % (\u0027SESSC-LSE\u0027, acc, bca))\n",
      "metadata": {
        "pycharm": {
          "metadata": false,
          "name": "#%%\n",
          "is_executing": false
        }
      }
    }
  ],
  "metadata": {
    "language_info": {
      "codemirror_mode": {
        "name": "ipython",
        "version": 2
      },
      "file_extension": ".py",
      "mimetype": "text/x-python",
      "name": "python",
      "nbconvert_exporter": "python",
      "pygments_lexer": "ipython2",
      "version": "2.7.6"
    },
    "kernelspec": {
      "name": "python3",
      "language": "python",
      "display_name": "Python 3"
    }
  },
  "nbformat": 4,
  "nbformat_minor": 0
}