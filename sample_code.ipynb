{
  "cells": [
    {
      "cell_type": "code",
      "execution_count": 6,
      "metadata": {
        "collapsed": true,
        "pycharm": {
          "name": "#%% \n",
          "is_executing": false
        }
      },
      "outputs": [
        {
          "name": "stdout",
          "text": [
            "(1055, 41) (1055,)\n"
          ],
          "output_type": "stream"
        }
      ],
      "source": "# load data and pre-processing\nfrom lib.classification import SESSC_Raw_Pred, TSK_FS\nimport numpy as np\nfrom sklearn.preprocessing import StandardScaler\nfrom sklearn.metrics import accuracy_score, balanced_accuracy_score, make_scorer\nfrom sklearn.model_selection import GridSearchCV\n\n\n# All parameters set in here was selected by cross-validation\n# You can use sklearn.model_selection.GridSearchCV to select best hyper-parameters\n# For example: \n# \n# gamma_range \u003d [0.01, 0.1, 1, 10, 100]\n# scale_range \u003d [0.01, 0.1, 1, 10, 100]\n# alpha_range \u003d [1e-4, 1e-3, 1e-2, 1e-1, 1, 10, 100]\n# eta_range \u003d [0.01, 0.05, 0.1, 0.3, 0.5]\n# beta_range \u003d [0.01, 0.1, 1, 10, 100]\n# \n# bca_score \u003d make_scorer(balanced_accuracy_score)\n# \n# sessc_lse \u003d TSK_FS(n_cluster\u003dn_rules, order\u003dorder, cluster\u003d\u0027sessc\u0027, classifier\u003d\u0027ridge\u0027)\n# params \u003d {\n#             \u0027_cls_alpha\u0027: alpha_range,\n#             \u0027_cluster_scale\u0027: scale_range,\n#             \u0027_cluster_gamma\u0027: gamma_range,\n#             \u0027_cluster_eta\u0027: eta_range,\n#             \u0027_cluster_beta\u0027: beta_range,\n#         }\n# gsc \u003d GridSearchCV(\n#             sessc_lse, params, scoring\u003dbca_score, cv\u003d5,\n#             verbose\u003d1, n_jobs\u003d-1, iid\u003dTrue,\n#             error_score\u003dnp.nan)\n# gsc.fit(x_train, y_train)\n\n\n\nnp.random.seed(1447)\nf \u003d np.load(\u0027Biodeg.npz\u0027)\ndata, label \u003d f[\u0027con_data\u0027], f[\u0027label\u0027]\nprint(data.shape, label.shape)\nrep \u003d 0\nx_train, y_train \u003d data[f[\u0027trains\u0027][rep]], label[f[\u0027trains\u0027][rep]]\nx_test, y_test \u003d data[f[\u0027tests\u0027][rep]], label[f[\u0027tests\u0027][rep]]\n\n# pre-processing by z-score\nss \u003d StandardScaler()\nx_train \u003d ss.fit_transform(x_train)\nx_test \u003d ss.transform(x_test)\n"
    },
    {
      "cell_type": "code",
      "execution_count": 7,
      "outputs": [],
      "source": "# hyper-parameter\n\nn_rules \u003d 30\norder \u003d 0\n",
      "metadata": {
        "pycharm": {
          "metadata": false,
          "name": "#%% \n",
          "is_executing": false
        }
      }
    },
    {
      "cell_type": "code",
      "execution_count": 8,
      "outputs": [
        {
          "name": "stdout",
          "text": [
            "[Method:    FCM-LSE] ACC: 0.6719, BCA: 0.5140\n"
          ],
          "output_type": "stream"
        }
      ],
      "source": "# FCM-LSE\nfcm_lse \u003d TSK_FS(n_cluster\u003dn_rules, order\u003dorder, cluster\u003d\u0027fcm\u0027, classifier\u003d\u0027ridge\u0027, _cls_alpha\u003d0.0001, _cluster_scale\u003d0.1)\nfcm_lse.fit(x_train, y_train)\npred \u003d fcm_lse.predict(x_test)\nacc \u003d accuracy_score(y_test, pred)\nbca \u003d balanced_accuracy_score(y_test, pred)\nprint(\u0027[Method: %10s] ACC: %.4f, BCA: %.4f\u0027 % (\u0027FCM-LSE\u0027, acc, bca))",
      "metadata": {
        "pycharm": {
          "metadata": false,
          "name": "#%%\n",
          "is_executing": false
        }
      }
    },
    {
      "cell_type": "code",
      "execution_count": 9,
      "outputs": [
        {
          "name": "stdout",
          "text": [
            "[Method:  EWFCM-LSE]ACC: 0.7792, BCA: 0.7348\n"
          ],
          "output_type": "stream"
        }
      ],
      "source": "# EWFCM-LSE\nessc_lse \u003d TSK_FS(n_cluster\u003dn_rules, order\u003dorder, cluster\u003d\u0027essc\u0027, classifier\u003d\u0027ridge\u0027,\n                 _cls_alpha\u003d0.001, _cluster_scale\u003d100, _cluster_eta\u003d0, _cluster_gamma\u003d100)\nessc_lse.fit(x_train, y_train)\npred \u003d essc_lse.predict(x_test)\nacc \u003d accuracy_score(y_test, pred)\nbca \u003d balanced_accuracy_score(y_test, pred)\nprint(\u0027[Method: %10s]ACC: %.4f, BCA: %.4f\u0027 % (\u0027EWFCM-LSE\u0027, acc, bca))",
      "metadata": {
        "pycharm": {
          "metadata": false,
          "name": "#%%\n",
          "is_executing": false
        }
      }
    },
    {
      "cell_type": "code",
      "execution_count": 10,
      "outputs": [
        {
          "name": "stdout",
          "text": [
            "[Method:   ESSC-LSE]ACC: 0.7823, BCA: 0.7395\n"
          ],
          "output_type": "stream"
        }
      ],
      "source": "# ESSC-LSE\nessc_lse \u003d TSK_FS(n_cluster\u003dn_rules, order\u003dorder, cluster\u003d\u0027essc\u0027, classifier\u003d\u0027ridge\u0027,\n                 _cls_alpha\u003d0.001, _cluster_scale\u003d1, _cluster_eta\u003d0.5, _cluster_gamma\u003d100)\nessc_lse.fit(x_train, y_train)\npred \u003d essc_lse.predict(x_test)\nacc \u003d accuracy_score(y_test, pred)\nbca \u003d balanced_accuracy_score(y_test, pred)\nprint(\u0027[Method: %10s]ACC: %.4f, BCA: %.4f\u0027 % (\u0027ESSC-LSE\u0027, acc, bca))",
      "metadata": {
        "pycharm": {
          "metadata": false,
          "name": "#%%\n",
          "is_executing": false
        }
      }
    },
    {
      "cell_type": "code",
      "execution_count": 11,
      "outputs": [
        {
          "name": "stdout",
          "text": [
            "[Method:      SESSC]ACC: 0.6688, BCA: 0.5277\n"
          ],
          "output_type": "stream"
        }
      ],
      "source": "# SESSC\nsessc \u003d SESSC_Raw_Pred(n_cluster\u003d30, eta\u003d0.3, gamma\u003d10, beta\u003d10)\nsessc.fit(x_train, y_train)\npred \u003d sessc.predict(x_test)\nacc \u003d accuracy_score(y_test, pred)\nbca \u003d balanced_accuracy_score(y_test, pred)\nprint(\u0027[Method: %10s]ACC: %.4f, BCA: %.4f\u0027 % (\u0027SESSC\u0027, acc, bca))\n",
      "metadata": {
        "pycharm": {
          "metadata": false,
          "name": "#%%\n",
          "is_executing": false
        }
      }
    },
    {
      "cell_type": "code",
      "execution_count": 12,
      "outputs": [
        {
          "name": "stdout",
          "text": [
            "[Method:  SESSC-LSE]ACC: 0.8297, BCA: 0.7889\n"
          ],
          "output_type": "stream"
        }
      ],
      "source": "# SESSC-LSE\nsessc_lse \u003d TSK_FS(n_cluster\u003dn_rules, order\u003dorder, cluster\u003d\u0027sessc\u0027, classifier\u003d\u0027ridge\u0027,\n                 _cls_alpha\u003d1, _cluster_scale\u003d10, _cluster_eta\u003d0.3, _cluster_gamma\u003d100, _cluster_beta\u003d10)\nsessc_lse.fit(x_train, y_train)\npred \u003d sessc_lse.predict(x_test)\nacc \u003d accuracy_score(y_test, pred)\nbca \u003d balanced_accuracy_score(y_test, pred)\nprint(\u0027[Method: %10s]ACC: %.4f, BCA: %.4f\u0027 % (\u0027SESSC-LSE\u0027, acc, bca))\n",
      "metadata": {
        "pycharm": {
          "metadata": false,
          "name": "#%%\n",
          "is_executing": false
        }
      }
    }
  ],
  "metadata": {
    "language_info": {
      "codemirror_mode": {
        "name": "ipython",
        "version": 2
      },
      "file_extension": ".py",
      "mimetype": "text/x-python",
      "name": "python",
      "nbconvert_exporter": "python",
      "pygments_lexer": "ipython2",
      "version": "2.7.6"
    },
    "kernelspec": {
      "name": "python3",
      "language": "python",
      "display_name": "Python 3"
    }
  },
  "nbformat": 4,
  "nbformat_minor": 0
}